{
  "cells": [
    {
      "cell_type": "code",
      "execution_count": null,
      "metadata": {},
      "outputs": [],
      "source": [
        "#Calculate PSNR of video---------------------------------------------------------------------------------------\n",
        "def calculate_psnr_v(ori_video, compressed):\n",
        "    original = cv2.VideoCapture(ori_video)\n",
        "    compressed_video = cv2.VideoCapture(compressed)\n",
        "    fps = original.get(cv2.CAP_PROP_FPS)\n",
        "    f_size = (int(original.get(cv2.CAP_PROP_FRAME_WIDTH)), int(original.get(cv2.CAP_PROP_FRAME_HEIGHT)))\n",
        "    # Initialize PSNR\n",
        "    psnr_sum = 0.0\n",
        "    f_count = 0\n",
        "    while True:\n",
        "        # Read frames from both videos\n",
        "        ret_original, frame_original = original.read()\n",
        "        ret_compressed, frame_compressed = compressed_video.read()\n",
        "        # Break the loop if any video has reached the end\n",
        "        if not ret_original or not ret_compressed:\n",
        "            break\n",
        "        # Convert frames to grayscale\n",
        "        original_gray = cv2.cvtColor(frame_original, cv2.COLOR_BGR2GRAY)\n",
        "        compressed_gray = cv2.cvtColor(frame_compressed, cv2.COLOR_BGR2GRAY)\n",
        "        # Calculate PSNR for the current frame\n",
        "        psnr_frame = cv2.PSNR(original_gray, compressed_gray)\n",
        "        # Accumulate PSNR values\n",
        "        psnr_sum += psnr_frame\n",
        "        f_count += 1\n",
        "    # Calculate average PSNR\n",
        "    psnr_avg = psnr_sum / f_count\n",
        "    # Release video capture objects\n",
        "    original.release()\n",
        "    compressed_video.release()\n",
        "    print(f\"PSNR is: {psnr_avg:.4f}\")\n",
        "    return psnr_avg\n",
        "\n",
        "#PSNR of image--------------------------------------------------------------------------------------------------\n",
        "def calculate_psnr(original_image, compressed_image):\n",
        "    # Read the images\n",
        "    original = cv2.imread(original_image)\n",
        "    compressed = cv2.imread(compressed_image)\n",
        "\n",
        "    # Convert images to grayscale\n",
        "    original_gray = cv2.cvtColor(original, cv2.COLOR_BGR2GRAY)\n",
        "    compressed_gray = cv2.cvtColor(compressed, cv2.COLOR_BGR2GRAY)\n",
        "\n",
        "    # Calculate PSNR\n",
        "    psnr_value = cv2.PSNR(original_gray, compressed_gray)\n",
        "\n",
        "    print(f\"PSNR is: {psnr_value:.4f}\")\n",
        "    return psnr_value\n",
        "\n",
        "ori=r\"D:\\Downloads\\Mini project\\Foreman.mp4\"\n",
        "comp=r\"D:\\Downloads\\Mini project\\output_video.mp4\"\n",
        "vpsnr=calculate_psnr_v(ori,comp)\n",
        "\n"
      ]
    }
  ],
  "metadata": {
    "colab": {
      "provenance": []
    },
    "kernelspec": {
      "display_name": "Python 3",
      "name": "python3"
    },
    "language_info": {
      "codemirror_mode": {
        "name": "ipython",
        "version": 3
      },
      "file_extension": ".py",
      "mimetype": "text/x-python",
      "name": "python",
      "nbconvert_exporter": "python",
      "pygments_lexer": "ipython3",
      "version": "3.12.0"
    }
  },
  "nbformat": 4,
  "nbformat_minor": 0
}
